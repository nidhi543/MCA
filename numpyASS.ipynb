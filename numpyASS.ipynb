{
  "nbformat": 4,
  "nbformat_minor": 0,
  "metadata": {
    "colab": {
      "provenance": [],
      "toc_visible": true,
      "authorship_tag": "ABX9TyN5BiIfSdIsRMkR1A5eb8GC",
      "include_colab_link": true
    },
    "kernelspec": {
      "name": "python3",
      "display_name": "Python 3"
    },
    "language_info": {
      "name": "python"
    }
  },
  "cells": [
    {
      "cell_type": "markdown",
      "metadata": {
        "id": "view-in-github",
        "colab_type": "text"
      },
      "source": [
        "<a href=\"https://colab.research.google.com/github/nidhi543/MCA/blob/main/numpyASS.ipynb\" target=\"_parent\"><img src=\"https://colab.research.google.com/assets/colab-badge.svg\" alt=\"Open In Colab\"/></a>"
      ]
    },
    {
      "cell_type": "code",
      "execution_count": 2,
      "metadata": {
        "id": "pk6CeEDJqV8g"
      },
      "outputs": [],
      "source": [
        "import numpy as np"
      ]
    },
    {
      "cell_type": "code",
      "source": [
        "arr = np.array([1,2,3,6,4,5])\n",
        "arr_r = np.flip(arr)\n",
        "arr_r"
      ],
      "metadata": {
        "colab": {
          "base_uri": "https://localhost:8080/"
        },
        "id": "hBHNjkX7g1cn",
        "outputId": "e1c7f512-30f4-47b0-d385-156e4a1f73ef"
      },
      "execution_count": 3,
      "outputs": [
        {
          "output_type": "execute_result",
          "data": {
            "text/plain": [
              "array([5, 4, 6, 3, 2, 1])"
            ]
          },
          "metadata": {},
          "execution_count": 3
        }
      ]
    },
    {
      "cell_type": "code",
      "source": [
        "arr1 = np.array([[1,2], [3,4]])\n",
        "arr2 = np.array([[1,2], [3,4]])\n",
        "print((arr1==arr2).all())"
      ],
      "metadata": {
        "colab": {
          "base_uri": "https://localhost:8080/"
        },
        "id": "nt6XFtb8hiqG",
        "outputId": "ae09fb3a-900f-4e89-9910-43bf48e24f2d"
      },
      "execution_count": 7,
      "outputs": [
        {
          "output_type": "stream",
          "name": "stdout",
          "text": [
            "True\n"
          ]
        }
      ]
    },
    {
      "cell_type": "code",
      "source": [
        "x = np.array([1,2,3,4,5,1,2,1,1,1])\n",
        "#find frequency of each value\n",
        "values, counts = np.unique(x, return_counts=True)\n",
        "\n",
        "print(values)\n",
        "print(counts)\n",
        "\n",
        "#display value with highest frequency\n",
        "elements = values[counts == counts.max()]\n",
        "\n",
        "print(elements)\n",
        "\n",
        "indices = []\n",
        "\n",
        "for i in range(0, len(x)) :\n",
        "  if x[i] in elements:\n",
        "      indices.append(i)\n",
        "\n",
        "print(indices)"
      ],
      "metadata": {
        "colab": {
          "base_uri": "https://localhost:8080/"
        },
        "id": "kBDBUh68vTxK",
        "outputId": "50cd2d48-8b04-44a9-e532-d3db43d6d6ab"
      },
      "execution_count": 20,
      "outputs": [
        {
          "output_type": "stream",
          "name": "stdout",
          "text": [
            "[1 2 3 4 5]\n",
            "[5 2 1 1 1]\n",
            "[1]\n",
            "[0, 5, 7, 8, 9]\n"
          ]
        }
      ]
    },
    {
      "cell_type": "code",
      "source": [
        "y = np.array([1, 1, 1, 2, 3, 4, 2, 4, 3, 3, ])\n",
        "#find frequency of each value\n",
        "values, counts = np.unique(x, return_counts=True)\n",
        "\n",
        "print(values)\n",
        "print(counts)\n",
        "\n",
        "#display value with highest frequency\n",
        "elements = values[counts == counts.max()]\n",
        "\n",
        "print(elements)\n",
        "\n",
        "indices = []\n",
        "\n",
        "for i in range(0, len(x)) :\n",
        "  if x[i] in elements:\n",
        "      indices.append(i)\n",
        "\n",
        "print(indices)\n",
        "\n"
      ],
      "metadata": {
        "colab": {
          "base_uri": "https://localhost:8080/"
        },
        "id": "QhMoxG4VpScZ",
        "outputId": "92ad8580-55d2-4709-f0ea-ceabb0d05894"
      },
      "execution_count": 19,
      "outputs": [
        {
          "output_type": "stream",
          "name": "stdout",
          "text": [
            "[1 2 3 4]\n",
            "[3 2 3 2]\n",
            "[1 3]\n",
            "[0, 1, 2, 4, 8, 9]\n"
          ]
        }
      ]
    },
    {
      "cell_type": "code",
      "source": [
        "gfg = np.matrix('[4, 1, 9; 12, 3, 1; 4, 5, 6]')\n",
        "s= np.sum(gfg)\n",
        "rs=np.sum(gfg,axis=1)\n",
        "cs=np.sum(gfg,axis=0)\n",
        "print(\"Sum of all elements:\", s)\n",
        "print(\"Sum of all elements row-wise\",rs)\n",
        "print(\"Sum of all elements column-wise\",cs)"
      ],
      "metadata": {
        "colab": {
          "base_uri": "https://localhost:8080/"
        },
        "id": "OY4xHoU_vy19",
        "outputId": "59808425-566d-4daf-c697-68550ffe898d"
      },
      "execution_count": 26,
      "outputs": [
        {
          "output_type": "stream",
          "name": "stdout",
          "text": [
            "Sum of all elements: 45\n",
            "Sum of all elements row-wise [[14]\n",
            " [16]\n",
            " [15]]\n",
            "Sum of all elements column-wise [[20  9 16]]\n"
          ]
        }
      ]
    }
  ]
}